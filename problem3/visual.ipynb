{
 "cells": [
  {
   "cell_type": "code",
   "execution_count": 104,
   "metadata": {},
   "outputs": [],
   "source": [
    "import os\n",
    "import pandas as pd\n",
    "import time"
   ]
  },
  {
   "cell_type": "code",
   "execution_count": 105,
   "metadata": {},
   "outputs": [],
   "source": [
    "folderPath = '/Users/huangweichen/Desktop/job/qsearch/problem3/pull_data/data'\n",
    "dfs = []\n",
    "order = ['fetchDataTime', 'id', 'createTime', 'collectCount', 'commentCount', 'diggCount', 'playCount', 'delta_playCount', 'shareCount', 'desc']"
   ]
  },
  {
   "cell_type": "code",
   "execution_count": 106,
   "metadata": {},
   "outputs": [],
   "source": [
    "for fileName in os.listdir(folderPath):\n",
    "    if fileName.endswith('.csv'):\n",
    "        filePath = os.path.join(folderPath, fileName)\n",
    "        df = pd.read_csv(filePath)\n",
    "    \n",
    "        df['id'] = df['createTime'] # only for current data w/o id\n",
    "        df['fetchDataTime'] =  time.strftime(\"%Y-%m-%d %H:%M:%S\", time.gmtime(int(fileName[:-4])))\n",
    "        # df['createTime'] = time.strftime(\"%Y-%m-%d %H:%M:%S\", time.gmtime(df['createTime']))\n",
    "        \n",
    "        dfs.append(df)\n",
    "        \n",
    "combinedDf = pd.concat(dfs, ignore_index=True)\n",
    "combinedDf = combinedDf.sort_values(by=['id', 'fetchDataTime'])\n",
    "combinedDf['delta_playCount'] = combinedDf.groupby('id')['playCount'].diff().fillna(0).astype(int)\n",
    "combinedDf = combinedDf.sort_values(by=['playCount', 'id', 'fetchDataTime'], ascending=False)\n",
    "combinedDf = combinedDf[order]"
   ]
  },
  {
   "cell_type": "code",
   "execution_count": 160,
   "metadata": {},
   "outputs": [
    {
     "name": "stdout",
     "output_type": "stream",
     "text": [
      "        id  colors\n",
      "1706572800       1\n",
      "1706572800       1\n",
      "1706572800       1\n",
      "1706572800       1\n",
      "1706572800       1\n",
      "1706536800       0\n",
      "1706536800       0\n",
      "1706536800       0\n",
      "1706536800       0\n",
      "1706536800       0\n",
      "1706580000       2\n",
      "1706580000       2\n",
      "1706580000       2\n",
      "1706580000       2\n",
      "1706580000       2\n"
     ]
    }
   ],
   "source": [
    "iddf = combinedDf\n",
    "iddf['colors'] = iddf.groupby('id').ngroup()\n",
    "iddf = iddf[['id', 'colors']]\n",
    "\n",
    "print(iddf.to_string(index=False))"
   ]
  },
  {
   "cell_type": "code",
   "execution_count": 141,
   "metadata": {},
   "outputs": [
    {
     "name": "stdout",
     "output_type": "stream",
     "text": [
      "1706572800\n",
      "1706536800\n",
      "1706580000\n",
      "         fetchDataTime          id  createTime  collectCount  commentCount  \\\n",
      "10 2024-01-30 02:48:06  1706572800  1706572800            11             6   \n",
      "1  2024-01-30 02:46:06  1706572800  1706572800            11             6   \n",
      "13 2024-01-30 02:44:06  1706572800  1706572800            11             6   \n",
      "7  2024-01-30 02:42:08  1706572800  1706572800            11             6   \n",
      "4  2024-01-30 02:40:07  1706572800  1706572800            11             6   \n",
      "11 2024-01-30 02:48:06  1706536800  1706536800             5             0   \n",
      "2  2024-01-30 02:46:06  1706536800  1706536800             5             0   \n",
      "14 2024-01-30 02:44:06  1706536800  1706536800             5             0   \n",
      "8  2024-01-30 02:42:08  1706536800  1706536800             5             0   \n",
      "5  2024-01-30 02:40:07  1706536800  1706536800             5             0   \n",
      "9  2024-01-30 02:48:06  1706580000  1706580000             1             1   \n",
      "0  2024-01-30 02:46:06  1706580000  1706580000             1             1   \n",
      "12 2024-01-30 02:44:06  1706580000  1706580000             1             1   \n",
      "6  2024-01-30 02:42:08  1706580000  1706580000             1             1   \n",
      "3  2024-01-30 02:40:07  1706580000  1706580000             1             1   \n",
      "\n",
      "    diggCount  playCount  delta_playCount  shareCount  \\\n",
      "10        266      16900              300          14   \n",
      "1         260      16600              300          13   \n",
      "13        259      16300              300          12   \n",
      "7         257      16000              300          11   \n",
      "4         255      15700                0          11   \n",
      "11         78       4751                4           3   \n",
      "2          78       4747                5           3   \n",
      "14         78       4742                5           3   \n",
      "8          78       4737                0           3   \n",
      "5          78       4737                0           3   \n",
      "9          36       1310               43           0   \n",
      "0          36       1267               40           0   \n",
      "12         35       1227               52           0   \n",
      "6          34       1175               65           0   \n",
      "3          34       1110                0           0   \n",
      "\n",
      "                                                 desc  \n",
      "10                            這個鬼蹭...我到底看了什麼 #即新聞 #小偷  \n",
      "1                             這個鬼蹭...我到底看了什麼 #即新聞 #小偷  \n",
      "13                            這個鬼蹭...我到底看了什麼 #即新聞 #小偷  \n",
      "7                             這個鬼蹭...我到底看了什麼 #即新聞 #小偷  \n",
      "4                             這個鬼蹭...我到底看了什麼 #即新聞 #小偷  \n",
      "11  藝人炎亞綸現身士林地院，庭後他接受媒體訪問表示，兩項指控已獲不起訴，提醒媒體及網友「未來要斟...  \n",
      "2   藝人炎亞綸現身士林地院，庭後他接受媒體訪問表示，兩項指控已獲不起訴，提醒媒體及網友「未來要斟...  \n",
      "14  藝人炎亞綸現身士林地院，庭後他接受媒體訪問表示，兩項指控已獲不起訴，提醒媒體及網友「未來要斟...  \n",
      "8   藝人炎亞綸現身士林地院，庭後他接受媒體訪問表示，兩項指控已獲不起訴，提醒媒體及網友「未來要斟...  \n",
      "5   藝人炎亞綸現身士林地院，庭後他接受媒體訪問表示，兩項指控已獲不起訴，提醒媒體及網友「未來要斟...  \n",
      "9   員警攔查四海幫海雲堂前堂主，他一下車便飄散出濃濃酒氣，並在路邊大鬧，要求員警對他酒測要「公平...  \n",
      "0   員警攔查四海幫海雲堂前堂主，他一下車便飄散出濃濃酒氣，並在路邊大鬧，要求員警對他酒測要「公平...  \n",
      "12  員警攔查四海幫海雲堂前堂主，他一下車便飄散出濃濃酒氣，並在路邊大鬧，要求員警對他酒測要「公平...  \n",
      "6   員警攔查四海幫海雲堂前堂主，他一下車便飄散出濃濃酒氣，並在路邊大鬧，要求員警對他酒測要「公平...  \n",
      "3   員警攔查四海幫海雲堂前堂主，他一下車便飄散出濃濃酒氣，並在路邊大鬧，要求員警對他酒測要「公平...  \n"
     ]
    }
   ],
   "source": [
    "dfPlot = combinedDf\n",
    "totalId = len(dfPlot['id'].unique())\n",
    "\n",
    "idx = 0\n",
    "for id_value in dfPlot['id'].unique():\n",
    "    print(id_value)\n",
    "    dfPlot[:][dfPlot['id'] == id_value].insert(0, 'color', idx)\n",
    "    idx += 1\n",
    "\n",
    "print(dfPlot)"
   ]
  },
  {
   "cell_type": "code",
   "execution_count": 108,
   "metadata": {},
   "outputs": [
    {
     "name": "stdout",
     "output_type": "stream",
     "text": [
      "      fetchDataTime         id  createTime  collectCount  commentCount  diggCount  playCount  delta_playCount  shareCount                                                                                                                                                                                                                                 desc\n",
      "2024-01-30 02:48:06 1706572800  1706572800            11             6        266      16900              300          14                                                                                                                                                                                                              這個鬼蹭...我到底看了什麼 #即新聞 #小偷\n",
      "2024-01-30 02:46:06 1706572800  1706572800            11             6        260      16600              300          13                                                                                                                                                                                                              這個鬼蹭...我到底看了什麼 #即新聞 #小偷\n",
      "2024-01-30 02:44:06 1706572800  1706572800            11             6        259      16300              300          12                                                                                                                                                                                                              這個鬼蹭...我到底看了什麼 #即新聞 #小偷\n",
      "2024-01-30 02:42:08 1706572800  1706572800            11             6        257      16000              300          11                                                                                                                                                                                                              這個鬼蹭...我到底看了什麼 #即新聞 #小偷\n",
      "2024-01-30 02:40:07 1706572800  1706572800            11             6        255      15700                0          11                                                                                                                                                                                                              這個鬼蹭...我到底看了什麼 #即新聞 #小偷\n",
      "2024-01-30 02:48:06 1706536800  1706536800             5             0         78       4751                4           3                                                                                                                                                                        藝人炎亞綸現身士林地院，庭後他接受媒體訪問表示，兩項指控已獲不起訴，提醒媒體及網友「未來要斟酌用字」 #即新聞  #炎亞綸\n",
      "2024-01-30 02:46:06 1706536800  1706536800             5             0         78       4747                5           3                                                                                                                                                                        藝人炎亞綸現身士林地院，庭後他接受媒體訪問表示，兩項指控已獲不起訴，提醒媒體及網友「未來要斟酌用字」 #即新聞  #炎亞綸\n",
      "2024-01-30 02:44:06 1706536800  1706536800             5             0         78       4742                5           3                                                                                                                                                                        藝人炎亞綸現身士林地院，庭後他接受媒體訪問表示，兩項指控已獲不起訴，提醒媒體及網友「未來要斟酌用字」 #即新聞  #炎亞綸\n",
      "2024-01-30 02:42:08 1706536800  1706536800             5             0         78       4737                0           3                                                                                                                                                                        藝人炎亞綸現身士林地院，庭後他接受媒體訪問表示，兩項指控已獲不起訴，提醒媒體及網友「未來要斟酌用字」 #即新聞  #炎亞綸\n",
      "2024-01-30 02:40:07 1706536800  1706536800             5             0         78       4737                0           3                                                                                                                                                                        藝人炎亞綸現身士林地院，庭後他接受媒體訪問表示，兩項指控已獲不起訴，提醒媒體及網友「未來要斟酌用字」 #即新聞  #炎亞綸\n",
      "2024-01-30 02:48:06 1706580000  1706580000             1             1         36       1310               43           0 員警攔查四海幫海雲堂前堂主，他一下車便飄散出濃濃酒氣，並在路邊大鬧，要求員警對他酒測要「公平公正喔」，並向員警嗆聲，又高舉雙手一下向上天祈求貌，一下雙手合十趴在引擎蓋上，「拜天拜地」盧了半天才配合酒測，但因他多次酒測不成功，面對員警要求他再吹一次，他憤怒直吼，「我已經吹3次了！」最終酒測值出爐，酒精濃度竟高達每公升1.01毫克，他謊稱要上車拿手機，上車後卻拒不下車，逼得員警只得實施強制力將他拉下車逮捕，並告知其相關權利 #即新聞 #酒測 #酒駕 #警察\n",
      "2024-01-30 02:46:06 1706580000  1706580000             1             1         36       1267               40           0 員警攔查四海幫海雲堂前堂主，他一下車便飄散出濃濃酒氣，並在路邊大鬧，要求員警對他酒測要「公平公正喔」，並向員警嗆聲，又高舉雙手一下向上天祈求貌，一下雙手合十趴在引擎蓋上，「拜天拜地」盧了半天才配合酒測，但因他多次酒測不成功，面對員警要求他再吹一次，他憤怒直吼，「我已經吹3次了！」最終酒測值出爐，酒精濃度竟高達每公升1.01毫克，他謊稱要上車拿手機，上車後卻拒不下車，逼得員警只得實施強制力將他拉下車逮捕，並告知其相關權利 #即新聞 #酒測 #酒駕 #警察\n",
      "2024-01-30 02:44:06 1706580000  1706580000             1             1         35       1227               52           0 員警攔查四海幫海雲堂前堂主，他一下車便飄散出濃濃酒氣，並在路邊大鬧，要求員警對他酒測要「公平公正喔」，並向員警嗆聲，又高舉雙手一下向上天祈求貌，一下雙手合十趴在引擎蓋上，「拜天拜地」盧了半天才配合酒測，但因他多次酒測不成功，面對員警要求他再吹一次，他憤怒直吼，「我已經吹3次了！」最終酒測值出爐，酒精濃度竟高達每公升1.01毫克，他謊稱要上車拿手機，上車後卻拒不下車，逼得員警只得實施強制力將他拉下車逮捕，並告知其相關權利 #即新聞 #酒測 #酒駕 #警察\n",
      "2024-01-30 02:42:08 1706580000  1706580000             1             1         34       1175               65           0 員警攔查四海幫海雲堂前堂主，他一下車便飄散出濃濃酒氣，並在路邊大鬧，要求員警對他酒測要「公平公正喔」，並向員警嗆聲，又高舉雙手一下向上天祈求貌，一下雙手合十趴在引擎蓋上，「拜天拜地」盧了半天才配合酒測，但因他多次酒測不成功，面對員警要求他再吹一次，他憤怒直吼，「我已經吹3次了！」最終酒測值出爐，酒精濃度竟高達每公升1.01毫克，他謊稱要上車拿手機，上車後卻拒不下車，逼得員警只得實施強制力將他拉下車逮捕，並告知其相關權利 #即新聞 #酒測 #酒駕 #警察\n",
      "2024-01-30 02:40:07 1706580000  1706580000             1             1         34       1110                0           0 員警攔查四海幫海雲堂前堂主，他一下車便飄散出濃濃酒氣，並在路邊大鬧，要求員警對他酒測要「公平公正喔」，並向員警嗆聲，又高舉雙手一下向上天祈求貌，一下雙手合十趴在引擎蓋上，「拜天拜地」盧了半天才配合酒測，但因他多次酒測不成功，面對員警要求他再吹一次，他憤怒直吼，「我已經吹3次了！」最終酒測值出爐，酒精濃度竟高達每公升1.01毫克，他謊稱要上車拿手機，上車後卻拒不下車，逼得員警只得實施強制力將他拉下車逮捕，並告知其相關權利 #即新聞 #酒測 #酒駕 #警察\n"
     ]
    }
   ],
   "source": [
    "from IPython.display import display\n",
    "\n",
    "print(combinedDf.to_string(index=False))"
   ]
  },
  {
   "cell_type": "code",
   "execution_count": 109,
   "metadata": {},
   "outputs": [
    {
     "data": {
      "image/png": "[encoded data removed]",
      "text/plain": [
       "<Figure size 800x600 with 1 Axes>"
      ]
     },
     "metadata": {},
     "output_type": "display_data"
    }
   ],
   "source": [
    "import matplotlib.pyplot as plt\n",
    "from matplotlib.dates import DateFormatter\n",
    "\n",
    "fig, ax = plt.subplots(figsize=(8, 6))  # Adjust the figure size for better resolution\n",
    "\n",
    "df = combinedDf\n",
    "df['fetchDataTime'] = pd.to_datetime(df['fetchDataTime'])\n",
    "\n",
    "for id_value in df['id'].unique():\n",
    "    subset = df[df['id'] == id_value]\n",
    "    \n",
    "    ax.scatter(subset['fetchDataTime'], subset['diggCount'], label=f'id {id_value}', s=10)\n",
    "\n",
    "# Customize the plot appearance\n",
    "ax.set_xlabel('Time')\n",
    "ax.set_ylabel('diggCount')\n",
    "ax.set_title('diggCount Over Time for Each id')\n",
    "ax.legend()\n",
    "ax.set_xticks(df['fetchDataTime'].unique())\n",
    "date_format = DateFormatter(\"%m-%d %H:%M\")  # Adjust the date format as needed\n",
    "ax.xaxis.set_major_formatter(date_format)\n",
    "plt.xticks(rotation=45, ha='right')  # Rotate x-axis labels for better readability\n",
    "plt.ylabel('diggCount')\n",
    "plt.title('diggCount Over Time for Each id')\n",
    "plt.tight_layout()  # Adjust layout for better spacing\n",
    "plt.legend()\n",
    "plt.show()"
   ]
  },
  {
   "cell_type": "code",
   "execution_count": 110,
   "metadata": {},
   "outputs": [
    {
     "data": {
      "application/vnd.plotly.v1+json": {
       "config": {
        "plotlyServerURL": "https://plot.ly"
       },
       "data": [
        {
         "hovertemplate": "Fetch Data Time=%{x}<br>Digg Count=%{y}<br>id=%{marker.color}<extra></extra>",
         "legendgroup": "",
         "marker": {
          "color": [
           1706572800,
           1706572800,
           1706572800,
           1706572800,
           1706572800,
           1706536800,
           1706536800,
           1706536800,
           1706536800,
           1706536800,
           1706580000,
           1706580000,
           1706580000,
           1706580000,
           1706580000
          ],
          "coloraxis": "coloraxis",
          "symbol": "circle"
         },
         "mode": "markers",
         "name": "",
         "orientation": "v",
         "showlegend": false,
         "type": "scatter",
         "x": [
          "2024-01-30T02:48:06",
          "2024-01-30T02:46:06",
          "2024-01-30T02:44:06",
          "2024-01-30T02:42:08",
          "2024-01-30T02:40:07",
          "2024-01-30T02:48:06",
          "2024-01-30T02:46:06",
          "2024-01-30T02:44:06",
          "2024-01-30T02:42:08",
          "2024-01-30T02:40:07",
          "2024-01-30T02:48:06",
          "2024-01-30T02:46:06",
          "2024-01-30T02:44:06",
          "2024-01-30T02:42:08",
          "2024-01-30T02:40:07"
         ],
         "xaxis": "x",
         "y": [
          266,
          260,
          259,
          257,
          255,
          78,
          78,
          78,
          78,
          78,
          36,
          36,
          35,
          34,
          34
         ],
         "yaxis": "y"
        }
       ],
       "layout": {
        "coloraxis": {
         "colorbar": {
          "title": {
           "text": "id"
          }
         },
         "colorscale": [
          [
           0,
           "#0d0887"
          ],
          [
           0.1111111111111111,
           "#46039f"
          ],
          [
           0.2222222222222222,
           "#7201a8"
          ],
          [
           0.3333333333333333,
           "#9c179e"
          ],
          [
           0.4444444444444444,
           "#bd3786"
          ],
          [
           0.5555555555555556,
           "#d8576b"
          ],
          [
           0.6666666666666666,
           "#ed7953"
          ],
          [
           0.7777777777777778,
           "#fb9f3a"
          ],
          [
           0.8888888888888888,
           "#fdca26"
          ],
          [
           1,
           "#f0f921"
          ]
         ]
        },
        "font": {
         "color": "black",
         "family": "Arial",
         "size": 12
        },
        "legend": {
         "title": {
          "text": "ID"
         },
         "tracegroupgap": 0
        },
        "template": {
         "data": {
          "bar": [
           {
            "error_x": {
             "color": "#2a3f5f"
            },
            "error_y": {
             "color": "#2a3f5f"
            },
            "marker": {
             "line": {
              "color": "#E5ECF6",
              "width": 0.5
             },
             "pattern": {
              "fillmode": "overlay",
              "size": 10,
              "solidity": 0.2
             }
            },
            "type": "bar"
           }
          ],
          "barpolar": [
           {
            "marker": {
             "line": {
              "color": "#E5ECF6",
              "width": 0.5
             },
             "pattern": {
              "fillmode": "overlay",
              "size": 10,
              "solidity": 0.2
             }
            },
            "type": "barpolar"
           }
          ],
          "carpet": [
           {
            "aaxis": {
             "endlinecolor": "#2a3f5f",
             "gridcolor": "white",
             "linecolor": "white",
             "minorgridcolor": "white",
             "startlinecolor": "#2a3f5f"
            },
            "baxis": {
             "endlinecolor": "#2a3f5f",
             "gridcolor": "white",
             "linecolor": "white",
             "minorgridcolor": "white",
             "startlinecolor": "#2a3f5f"
            },
            "type": "carpet"
           }
          ],
          "choropleth": [
           {
            "colorbar": {
             "outlinewidth": 0,
             "ticks": ""
            },
            "type": "choropleth"
           }
          ],
          "contour": [
           {
            "colorbar": {
             "outlinewidth": 0,
             "ticks": ""
            },
            "colorscale": [
             [
              0,
              "#0d0887"
             ],
             [
              0.1111111111111111,
              "#46039f"
             ],
             [
              0.2222222222222222,
              "#7201a8"
             ],
             [
              0.3333333333333333,
              "#9c179e"
             ],
             [
              0.4444444444444444,
              "#bd3786"
             ],
             [
              0.5555555555555556,
              "#d8576b"
             ],
             [
              0.6666666666666666,
              "#ed7953"
             ],
             [
              0.7777777777777778,
              "#fb9f3a"
             ],
             [
              0.8888888888888888,
              "#fdca26"
             ],
             [
              1,
              "#f0f921"
             ]
            ],
            "type": "contour"
           }
          ],
          "contourcarpet": [
           {
            "colorbar": {
             "outlinewidth": 0,
             "ticks": ""
            },
            "type": "contourcarpet"
           }
          ],
          "heatmap": [
           {
            "colorbar": {
             "outlinewidth": 0,
             "ticks": ""
            },
            "colorscale": [
             [
              0,
              "#0d0887"
             ],
             [
              0.1111111111111111,
              "#46039f"
             ],
             [
              0.2222222222222222,
              "#7201a8"
             ],
             [
              0.3333333333333333,
              "#9c179e"
             ],
             [
              0.4444444444444444,
              "#bd3786"
             ],
             [
              0.5555555555555556,
              "#d8576b"
             ],
             [
              0.6666666666666666,
              "#ed7953"
             ],
             [
              0.7777777777777778,
              "#fb9f3a"
             ],
             [
              0.8888888888888888,
              "#fdca26"
             ],
             [
              1,
              "#f0f921"
             ]
            ],
            "type": "heatmap"
           }
          ],
          "heatmapgl": [
           {
            "colorbar": {
             "outlinewidth": 0,
             "ticks": ""
            },
            "colorscale": [
             [
              0,
              "#0d0887"
             ],
             [
              0.1111111111111111,
              "#46039f"
             ],
             [
              0.2222222222222222,
              "#7201a8"
             ],
             [
              0.3333333333333333,
              "#9c179e"
             ],
             [
              0.4444444444444444,
              "#bd3786"
             ],
             [
              0.5555555555555556,
              "#d8576b"
             ],
             [
              0.6666666666666666,
              "#ed7953"
             ],
             [
              0.7777777777777778,
              "#fb9f3a"
             ],
             [
              0.8888888888888888,
              "#fdca26"
             ],
             [
              1,
              "#f0f921"
             ]
            ],
            "type": "heatmapgl"
           }
          ],
          "histogram": [
           {
            "marker": {
             "pattern": {
              "fillmode": "overlay",
              "size": 10,
              "solidity": 0.2
             }
            },
            "type": "histogram"
           }
          ],
          "histogram2d": [
           {
            "colorbar": {
             "outlinewidth": 0,
             "ticks": ""
            },
            "colorscale": [
             [
              0,
              "#0d0887"
             ],
             [
              0.1111111111111111,
              "#46039f"
             ],
             [
              0.2222222222222222,
              "#7201a8"
             ],
             [
              0.3333333333333333,
              "#9c179e"
             ],
             [
              0.4444444444444444,
              "#bd3786"
             ],
             [
              0.5555555555555556,
              "#d8576b"
             ],
             [
              0.6666666666666666,
              "#ed7953"
             ],
             [
              0.7777777777777778,
              "#fb9f3a"
             ],
             [
              0.8888888888888888,
              "#fdca26"
             ],
             [
              1,
              "#f0f921"
             ]
            ],
            "type": "histogram2d"
           }
          ],
          "histogram2dcontour": [
           {
            "colorbar": {
             "outlinewidth": 0,
             "ticks": ""
            },
            "colorscale": [
             [
              0,
              "#0d0887"
             ],
             [
              0.1111111111111111,
              "#46039f"
             ],
             [
              0.2222222222222222,
              "#7201a8"
             ],
             [
              0.3333333333333333,
              "#9c179e"
             ],
             [
              0.4444444444444444,
              "#bd3786"
             ],
             [
              0.5555555555555556,
              "#d8576b"
             ],
             [
              0.6666666666666666,
              "#ed7953"
             ],
             [
              0.7777777777777778,
              "#fb9f3a"
             ],
             [
              0.8888888888888888,
              "#fdca26"
             ],
             [
              1,
              "#f0f921"
             ]
            ],
            "type": "histogram2dcontour"
           }
          ],
          "mesh3d": [
           {
            "colorbar": {
             "outlinewidth": 0,
             "ticks": ""
            },
            "type": "mesh3d"
           }
          ],
          "parcoords": [
           {
            "line": {
             "colorbar": {
              "outlinewidth": 0,
              "ticks": ""
             }
            },
            "type": "parcoords"
           }
          ],
          "pie": [
           {
            "automargin": true,
            "type": "pie"
           }
          ],
          "scatter": [
           {
            "fillpattern": {
             "fillmode": "overlay",
             "size": 10,
             "solidity": 0.2
            },
            "type": "scatter"
           }
          ],
          "scatter3d": [
           {
            "line": {
             "colorbar": {
              "outlinewidth": 0,
              "ticks": ""
             }
            },
            "marker": {
             "colorbar": {
              "outlinewidth": 0,
              "ticks": ""
             }
            },
            "type": "scatter3d"
           }
          ],
          "scattercarpet": [
           {
            "marker": {
             "colorbar": {
              "outlinewidth": 0,
              "ticks": ""
             }
            },
            "type": "scattercarpet"
           }
          ],
          "scattergeo": [
           {
            "marker": {
             "colorbar": {
              "outlinewidth": 0,
              "ticks": ""
             }
            },
            "type": "scattergeo"
           }
          ],
          "scattergl": [
           {
            "marker": {
             "colorbar": {
              "outlinewidth": 0,
              "ticks": ""
             }
            },
            "type": "scattergl"
           }
          ],
          "scattermapbox": [
           {
            "marker": {
             "colorbar": {
              "outlinewidth": 0,
              "ticks": ""
             }
            },
            "type": "scattermapbox"
           }
          ],
          "scatterpolar": [
           {
            "marker": {
             "colorbar": {
              "outlinewidth": 0,
              "ticks": ""
             }
            },
            "type": "scatterpolar"
           }
          ],
          "scatterpolargl": [
           {
            "marker": {
             "colorbar": {
              "outlinewidth": 0,
              "ticks": ""
             }
            },
            "type": "scatterpolargl"
           }
          ],
          "scatterternary": [
           {
            "marker": {
             "colorbar": {
              "outlinewidth": 0,
              "ticks": ""
             }
            },
            "type": "scatterternary"
           }
          ],
          "surface": [
           {
            "colorbar": {
             "outlinewidth": 0,
             "ticks": ""
            },
            "colorscale": [
             [
              0,
              "#0d0887"
             ],
             [
              0.1111111111111111,
              "#46039f"
             ],
             [
              0.2222222222222222,
              "#7201a8"
             ],
             [
              0.3333333333333333,
              "#9c179e"
             ],
             [
              0.4444444444444444,
              "#bd3786"
             ],
             [
              0.5555555555555556,
              "#d8576b"
             ],
             [
              0.6666666666666666,
              "#ed7953"
             ],
             [
              0.7777777777777778,
              "#fb9f3a"
             ],
             [
              0.8888888888888888,
              "#fdca26"
             ],
             [
              1,
              "#f0f921"
             ]
            ],
            "type": "surface"
           }
          ],
          "table": [
           {
            "cells": {
             "fill": {
              "color": "#EBF0F8"
             },
             "line": {
              "color": "white"
             }
            },
            "header": {
             "fill": {
              "color": "#C8D4E3"
             },
             "line": {
              "color": "white"
             }
            },
            "type": "table"
           }
          ]
         },
         "layout": {
          "annotationdefaults": {
           "arrowcolor": "#2a3f5f",
           "arrowhead": 0,
           "arrowwidth": 1
          },
          "autotypenumbers": "strict",
          "coloraxis": {
           "colorbar": {
            "outlinewidth": 0,
            "ticks": ""
           }
          },
          "colorscale": {
           "diverging": [
            [
             0,
             "#8e0152"
            ],
            [
             0.1,
             "#c51b7d"
            ],
            [
             0.2,
             "#de77ae"
            ],
            [
             0.3,
             "#f1b6da"
            ],
            [
             0.4,
             "#fde0ef"
            ],
            [
             0.5,
             "#f7f7f7"
            ],
            [
             0.6,
             "#e6f5d0"
            ],
            [
             0.7,
             "#b8e186"
            ],
            [
             0.8,
             "#7fbc41"
            ],
            [
             0.9,
             "#4d9221"
            ],
            [
             1,
             "#276419"
            ]
           ],
           "sequential": [
            [
             0,
             "#0d0887"
            ],
            [
             0.1111111111111111,
             "#46039f"
            ],
            [
             0.2222222222222222,
             "#7201a8"
            ],
            [
             0.3333333333333333,
             "#9c179e"
            ],
            [
             0.4444444444444444,
             "#bd3786"
            ],
            [
             0.5555555555555556,
             "#d8576b"
            ],
            [
             0.6666666666666666,
             "#ed7953"
            ],
            [
             0.7777777777777778,
             "#fb9f3a"
            ],
            [
             0.8888888888888888,
             "#fdca26"
            ],
            [
             1,
             "#f0f921"
            ]
           ],
           "sequentialminus": [
            [
             0,
             "#0d0887"
            ],
            [
             0.1111111111111111,
             "#46039f"
            ],
            [
             0.2222222222222222,
             "#7201a8"
            ],
            [
             0.3333333333333333,
             "#9c179e"
            ],
            [
             0.4444444444444444,
             "#bd3786"
            ],
            [
             0.5555555555555556,
             "#d8576b"
            ],
            [
             0.6666666666666666,
             "#ed7953"
            ],
            [
             0.7777777777777778,
             "#fb9f3a"
            ],
            [
             0.8888888888888888,
             "#fdca26"
            ],
            [
             1,
             "#f0f921"
            ]
           ]
          },
          "colorway": [
           "#636efa",
           "#EF553B",
           "#00cc96",
           "#ab63fa",
           "#FFA15A",
           "#19d3f3",
           "#FF6692",
           "#B6E880",
           "#FF97FF",
           "#FECB52"
          ],
          "font": {
           "color": "#2a3f5f"
          },
          "geo": {
           "bgcolor": "white",
           "lakecolor": "white",
           "landcolor": "#E5ECF6",
           "showlakes": true,
           "showland": true,
           "subunitcolor": "white"
          },
          "hoverlabel": {
           "align": "left"
          },
          "hovermode": "closest",
          "mapbox": {
           "style": "light"
          },
          "paper_bgcolor": "white",
          "plot_bgcolor": "#E5ECF6",
          "polar": {
           "angularaxis": {
            "gridcolor": "white",
            "linecolor": "white",
            "ticks": ""
           },
           "bgcolor": "#E5ECF6",
           "radialaxis": {
            "gridcolor": "white",
            "linecolor": "white",
            "ticks": ""
           }
          },
          "scene": {
           "xaxis": {
            "backgroundcolor": "#E5ECF6",
            "gridcolor": "white",
            "gridwidth": 2,
            "linecolor": "white",
            "showbackground": true,
            "ticks": "",
            "zerolinecolor": "white"
           },
           "yaxis": {
            "backgroundcolor": "#E5ECF6",
            "gridcolor": "white",
            "gridwidth": 2,
            "linecolor": "white",
            "showbackground": true,
            "ticks": "",
            "zerolinecolor": "white"
           },
           "zaxis": {
            "backgroundcolor": "#E5ECF6",
            "gridcolor": "white",
            "gridwidth": 2,
            "linecolor": "white",
            "showbackground": true,
            "ticks": "",
            "zerolinecolor": "white"
           }
          },
          "shapedefaults": {
           "line": {
            "color": "#2a3f5f"
           }
          },
          "ternary": {
           "aaxis": {
            "gridcolor": "white",
            "linecolor": "white",
            "ticks": ""
           },
           "baxis": {
            "gridcolor": "white",
            "linecolor": "white",
            "ticks": ""
           },
           "bgcolor": "#E5ECF6",
           "caxis": {
            "gridcolor": "white",
            "linecolor": "white",
            "ticks": ""
           }
          },
          "title": {
           "x": 0.05
          },
          "xaxis": {
           "automargin": true,
           "gridcolor": "white",
           "linecolor": "white",
           "ticks": "",
           "title": {
            "standoff": 15
           },
           "zerolinecolor": "white",
           "zerolinewidth": 2
          },
          "yaxis": {
           "automargin": true,
           "gridcolor": "white",
           "linecolor": "white",
           "ticks": "",
           "title": {
            "standoff": 15
           },
           "zerolinecolor": "white",
           "zerolinewidth": 2
          }
         }
        },
        "title": {
         "font": {
          "size": 16
         },
         "text": "Digg Count Over Time for Each ID",
         "x": 0.5,
         "xanchor": "center"
        },
        "xaxis": {
         "anchor": "y",
         "domain": [
          0,
          1
         ],
         "title": {
          "text": "Fetch Data Time"
         }
        },
        "yaxis": {
         "anchor": "x",
         "domain": [
          0,
          1
         ],
         "title": {
          "text": "Digg Count"
         }
        }
       }
      }
     },
     "metadata": {},
     "output_type": "display_data"
    }
   ],
   "source": [
    "import plotly.express as px\n",
    "\n",
    "dfScatter = combinedDf\n",
    "\n",
    "# Assuming your DataFrame is named 'df'\n",
    "fig = px.scatter(dfScatter, x='fetchDataTime', y='diggCount', color='id',\n",
    "                 labels={'diggCount': 'Digg Count', 'fetchDataTime': 'Fetch Data Time'},\n",
    "                 title='Digg Count Over Time for Each ID')\n",
    "\n",
    "# Customize layout if needed\n",
    "fig.update_layout(\n",
    "    xaxis_title='Fetch Data Time',\n",
    "    yaxis_title='Digg Count',\n",
    "    legend_title='ID',\n",
    "    font=dict(family='Arial', size=12, color='black'),\n",
    "    title=dict(x=0.5, xanchor='center', font=dict(size=16)),\n",
    ")\n",
    "\n",
    "# Show the plot\n",
    "fig.show()"
   ]
  },
  {
   "cell_type": "code",
   "execution_count": 138,
   "metadata": {},
   "outputs": [
    {
     "name": "stdout",
     "output_type": "stream",
     "text": [
      "         fetchDataTime          id  createTime  collectCount  commentCount  \\\n",
      "10 2024-01-30 02:48:06  1706572800  1706572800            11             6   \n",
      "1  2024-01-30 02:46:06  1706572800  1706572800            11             6   \n",
      "13 2024-01-30 02:44:06  1706572800  1706572800            11             6   \n",
      "7  2024-01-30 02:42:08  1706572800  1706572800            11             6   \n",
      "4  2024-01-30 02:40:07  1706572800  1706572800            11             6   \n",
      "\n",
      "    diggCount  playCount  delta_playCount  shareCount                     desc  \n",
      "10        266      16900              300          14  這個鬼蹭...我到底看了什麼 #即新聞 #小偷  \n",
      "1         260      16600              300          13  這個鬼蹭...我到底看了什麼 #即新聞 #小偷  \n",
      "13        259      16300              300          12  這個鬼蹭...我到底看了什麼 #即新聞 #小偷  \n",
      "7         257      16000              300          11  這個鬼蹭...我到底看了什麼 #即新聞 #小偷  \n",
      "4         255      15700                0          11  這個鬼蹭...我到底看了什麼 #即新聞 #小偷  \n",
      "         fetchDataTime          id  createTime  collectCount  commentCount  \\\n",
      "11 2024-01-30 02:48:06  1706536800  1706536800             5             0   \n",
      "2  2024-01-30 02:46:06  1706536800  1706536800             5             0   \n",
      "14 2024-01-30 02:44:06  1706536800  1706536800             5             0   \n",
      "8  2024-01-30 02:42:08  1706536800  1706536800             5             0   \n",
      "5  2024-01-30 02:40:07  1706536800  1706536800             5             0   \n",
      "\n",
      "    diggCount  playCount  delta_playCount  shareCount  \\\n",
      "11         78       4751                4           3   \n",
      "2          78       4747                5           3   \n",
      "14         78       4742                5           3   \n",
      "8          78       4737                0           3   \n",
      "5          78       4737                0           3   \n",
      "\n",
      "                                                 desc  \n",
      "11  藝人炎亞綸現身士林地院，庭後他接受媒體訪問表示，兩項指控已獲不起訴，提醒媒體及網友「未來要斟...  \n",
      "2   藝人炎亞綸現身士林地院，庭後他接受媒體訪問表示，兩項指控已獲不起訴，提醒媒體及網友「未來要斟...  \n",
      "14  藝人炎亞綸現身士林地院，庭後他接受媒體訪問表示，兩項指控已獲不起訴，提醒媒體及網友「未來要斟...  \n",
      "8   藝人炎亞綸現身士林地院，庭後他接受媒體訪問表示，兩項指控已獲不起訴，提醒媒體及網友「未來要斟...  \n",
      "5   藝人炎亞綸現身士林地院，庭後他接受媒體訪問表示，兩項指控已獲不起訴，提醒媒體及網友「未來要斟...  \n",
      "         fetchDataTime          id  createTime  collectCount  commentCount  \\\n",
      "9  2024-01-30 02:48:06  1706580000  1706580000             1             1   \n",
      "0  2024-01-30 02:46:06  1706580000  1706580000             1             1   \n",
      "12 2024-01-30 02:44:06  1706580000  1706580000             1             1   \n",
      "6  2024-01-30 02:42:08  1706580000  1706580000             1             1   \n",
      "3  2024-01-30 02:40:07  1706580000  1706580000             1             1   \n",
      "\n",
      "    diggCount  playCount  delta_playCount  shareCount  \\\n",
      "9          36       1310               43           0   \n",
      "0          36       1267               40           0   \n",
      "12         35       1227               52           0   \n",
      "6          34       1175               65           0   \n",
      "3          34       1110                0           0   \n",
      "\n",
      "                                                 desc  \n",
      "9   員警攔查四海幫海雲堂前堂主，他一下車便飄散出濃濃酒氣，並在路邊大鬧，要求員警對他酒測要「公平...  \n",
      "0   員警攔查四海幫海雲堂前堂主，他一下車便飄散出濃濃酒氣，並在路邊大鬧，要求員警對他酒測要「公平...  \n",
      "12  員警攔查四海幫海雲堂前堂主，他一下車便飄散出濃濃酒氣，並在路邊大鬧，要求員警對他酒測要「公平...  \n",
      "6   員警攔查四海幫海雲堂前堂主，他一下車便飄散出濃濃酒氣，並在路邊大鬧，要求員警對他酒測要「公平...  \n",
      "3   員警攔查四海幫海雲堂前堂主，他一下車便飄散出濃濃酒氣，並在路邊大鬧，要求員警對他酒測要「公平...  \n"
     ]
    },
    {
     "data": {
      "application/vnd.plotly.v1+json": {
       "config": {
        "plotlyServerURL": "https://plot.ly"
       },
       "data": [
        {
         "hovertemplate": "<b>Video ID: %{customdata[0]}</b><br>Date: %{x}<br>Count: %{y}<br>Delta: %{customdata[1]}<br><extra></extra>",
         "marker": {
          "color": [
           1,
           0,
           0
          ]
         },
         "mode": "lines+markers",
         "name": "Video ID: 1706572800",
         "type": "scatter",
         "x": [
          "2024-01-30T02:48:06",
          "2024-01-30T02:46:06",
          "2024-01-30T02:44:06",
          "2024-01-30T02:42:08",
          "2024-01-30T02:40:07"
         ],
         "y": [
          16900,
          16600,
          16300,
          16000,
          15700
         ]
        },
        {
         "hovertemplate": "<b>Video ID: %{customdata[0]}</b><br>Date: %{x}<br>Count: %{y}<br>Delta: %{customdata[1]}<br><extra></extra>",
         "marker": {
          "color": [
           1,
           0,
           0
          ]
         },
         "mode": "lines+markers",
         "name": "Video ID: 1706536800",
         "type": "scatter",
         "x": [
          "2024-01-30T02:48:06",
          "2024-01-30T02:46:06",
          "2024-01-30T02:44:06",
          "2024-01-30T02:42:08",
          "2024-01-30T02:40:07"
         ],
         "y": [
          4751,
          4747,
          4742,
          4737,
          4737
         ]
        },
        {
         "hovertemplate": "<b>Video ID: %{customdata[0]}</b><br>Date: %{x}<br>Count: %{y}<br>Delta: %{customdata[1]}<br><extra></extra>",
         "marker": {
          "color": [
           1,
           0,
           0
          ]
         },
         "mode": "lines+markers",
         "name": "Video ID: 1706580000",
         "type": "scatter",
         "x": [
          "2024-01-30T02:48:06",
          "2024-01-30T02:46:06",
          "2024-01-30T02:44:06",
          "2024-01-30T02:42:08",
          "2024-01-30T02:40:07"
         ],
         "y": [
          1310,
          1267,
          1227,
          1175,
          1110
         ]
        }
       ],
       "layout": {
        "hoverlabel": {
         "bgcolor": "white",
         "font": {
          "size": 10
         }
        },
        "hovermode": "x unified",
        "template": {
         "data": {
          "bar": [
           {
            "error_x": {
             "color": "#2a3f5f"
            },
            "error_y": {
             "color": "#2a3f5f"
            },
            "marker": {
             "line": {
              "color": "#E5ECF6",
              "width": 0.5
             },
             "pattern": {
              "fillmode": "overlay",
              "size": 10,
              "solidity": 0.2
             }
            },
            "type": "bar"
           }
          ],
          "barpolar": [
           {
            "marker": {
             "line": {
              "color": "#E5ECF6",
              "width": 0.5
             },
             "pattern": {
              "fillmode": "overlay",
              "size": 10,
              "solidity": 0.2
             }
            },
            "type": "barpolar"
           }
          ],
          "carpet": [
           {
            "aaxis": {
             "endlinecolor": "#2a3f5f",
             "gridcolor": "white",
             "linecolor": "white",
             "minorgridcolor": "white",
             "startlinecolor": "#2a3f5f"
            },
            "baxis": {
             "endlinecolor": "#2a3f5f",
             "gridcolor": "white",
             "linecolor": "white",
             "minorgridcolor": "white",
             "startlinecolor": "#2a3f5f"
            },
            "type": "carpet"
           }
          ],
          "choropleth": [
           {
            "colorbar": {
             "outlinewidth": 0,
             "ticks": ""
            },
            "type": "choropleth"
           }
          ],
          "contour": [
           {
            "colorbar": {
             "outlinewidth": 0,
             "ticks": ""
            },
            "colorscale": [
             [
              0,
              "#0d0887"
             ],
             [
              0.1111111111111111,
              "#46039f"
             ],
             [
              0.2222222222222222,
              "#7201a8"
             ],
             [
              0.3333333333333333,
              "#9c179e"
             ],
             [
              0.4444444444444444,
              "#bd3786"
             ],
             [
              0.5555555555555556,
              "#d8576b"
             ],
             [
              0.6666666666666666,
              "#ed7953"
             ],
             [
              0.7777777777777778,
              "#fb9f3a"
             ],
             [
              0.8888888888888888,
              "#fdca26"
             ],
             [
              1,
              "#f0f921"
             ]
            ],
            "type": "contour"
           }
          ],
          "contourcarpet": [
           {
            "colorbar": {
             "outlinewidth": 0,
             "ticks": ""
            },
            "type": "contourcarpet"
           }
          ],
          "heatmap": [
           {
            "colorbar": {
             "outlinewidth": 0,
             "ticks": ""
            },
            "colorscale": [
             [
              0,
              "#0d0887"
             ],
             [
              0.1111111111111111,
              "#46039f"
             ],
             [
              0.2222222222222222,
              "#7201a8"
             ],
             [
              0.3333333333333333,
              "#9c179e"
             ],
             [
              0.4444444444444444,
              "#bd3786"
             ],
             [
              0.5555555555555556,
              "#d8576b"
             ],
             [
              0.6666666666666666,
              "#ed7953"
             ],
             [
              0.7777777777777778,
              "#fb9f3a"
             ],
             [
              0.8888888888888888,
              "#fdca26"
             ],
             [
              1,
              "#f0f921"
             ]
            ],
            "type": "heatmap"
           }
          ],
          "heatmapgl": [
           {
            "colorbar": {
             "outlinewidth": 0,
             "ticks": ""
            },
            "colorscale": [
             [
              0,
              "#0d0887"
             ],
             [
              0.1111111111111111,
              "#46039f"
             ],
             [
              0.2222222222222222,
              "#7201a8"
             ],
             [
              0.3333333333333333,
              "#9c179e"
             ],
             [
              0.4444444444444444,
              "#bd3786"
             ],
             [
              0.5555555555555556,
              "#d8576b"
             ],
             [
              0.6666666666666666,
              "#ed7953"
             ],
             [
              0.7777777777777778,
              "#fb9f3a"
             ],
             [
              0.8888888888888888,
              "#fdca26"
             ],
             [
              1,
              "#f0f921"
             ]
            ],
            "type": "heatmapgl"
           }
          ],
          "histogram": [
           {
            "marker": {
             "pattern": {
              "fillmode": "overlay",
              "size": 10,
              "solidity": 0.2
             }
            },
            "type": "histogram"
           }
          ],
          "histogram2d": [
           {
            "colorbar": {
             "outlinewidth": 0,
             "ticks": ""
            },
            "colorscale": [
             [
              0,
              "#0d0887"
             ],
             [
              0.1111111111111111,
              "#46039f"
             ],
             [
              0.2222222222222222,
              "#7201a8"
             ],
             [
              0.3333333333333333,
              "#9c179e"
             ],
             [
              0.4444444444444444,
              "#bd3786"
             ],
             [
              0.5555555555555556,
              "#d8576b"
             ],
             [
              0.6666666666666666,
              "#ed7953"
             ],
             [
              0.7777777777777778,
              "#fb9f3a"
             ],
             [
              0.8888888888888888,
              "#fdca26"
             ],
             [
              1,
              "#f0f921"
             ]
            ],
            "type": "histogram2d"
           }
          ],
          "histogram2dcontour": [
           {
            "colorbar": {
             "outlinewidth": 0,
             "ticks": ""
            },
            "colorscale": [
             [
              0,
              "#0d0887"
             ],
             [
              0.1111111111111111,
              "#46039f"
             ],
             [
              0.2222222222222222,
              "#7201a8"
             ],
             [
              0.3333333333333333,
              "#9c179e"
             ],
             [
              0.4444444444444444,
              "#bd3786"
             ],
             [
              0.5555555555555556,
              "#d8576b"
             ],
             [
              0.6666666666666666,
              "#ed7953"
             ],
             [
              0.7777777777777778,
              "#fb9f3a"
             ],
             [
              0.8888888888888888,
              "#fdca26"
             ],
             [
              1,
              "#f0f921"
             ]
            ],
            "type": "histogram2dcontour"
           }
          ],
          "mesh3d": [
           {
            "colorbar": {
             "outlinewidth": 0,
             "ticks": ""
            },
            "type": "mesh3d"
           }
          ],
          "parcoords": [
           {
            "line": {
             "colorbar": {
              "outlinewidth": 0,
              "ticks": ""
             }
            },
            "type": "parcoords"
           }
          ],
          "pie": [
           {
            "automargin": true,
            "type": "pie"
           }
          ],
          "scatter": [
           {
            "fillpattern": {
             "fillmode": "overlay",
             "size": 10,
             "solidity": 0.2
            },
            "type": "scatter"
           }
          ],
          "scatter3d": [
           {
            "line": {
             "colorbar": {
              "outlinewidth": 0,
              "ticks": ""
             }
            },
            "marker": {
             "colorbar": {
              "outlinewidth": 0,
              "ticks": ""
             }
            },
            "type": "scatter3d"
           }
          ],
          "scattercarpet": [
           {
            "marker": {
             "colorbar": {
              "outlinewidth": 0,
              "ticks": ""
             }
            },
            "type": "scattercarpet"
           }
          ],
          "scattergeo": [
           {
            "marker": {
             "colorbar": {
              "outlinewidth": 0,
              "ticks": ""
             }
            },
            "type": "scattergeo"
           }
          ],
          "scattergl": [
           {
            "marker": {
             "colorbar": {
              "outlinewidth": 0,
              "ticks": ""
             }
            },
            "type": "scattergl"
           }
          ],
          "scattermapbox": [
           {
            "marker": {
             "colorbar": {
              "outlinewidth": 0,
              "ticks": ""
             }
            },
            "type": "scattermapbox"
           }
          ],
          "scatterpolar": [
           {
            "marker": {
             "colorbar": {
              "outlinewidth": 0,
              "ticks": ""
             }
            },
            "type": "scatterpolar"
           }
          ],
          "scatterpolargl": [
           {
            "marker": {
             "colorbar": {
              "outlinewidth": 0,
              "ticks": ""
             }
            },
            "type": "scatterpolargl"
           }
          ],
          "scatterternary": [
           {
            "marker": {
             "colorbar": {
              "outlinewidth": 0,
              "ticks": ""
             }
            },
            "type": "scatterternary"
           }
          ],
          "surface": [
           {
            "colorbar": {
             "outlinewidth": 0,
             "ticks": ""
            },
            "colorscale": [
             [
              0,
              "#0d0887"
             ],
             [
              0.1111111111111111,
              "#46039f"
             ],
             [
              0.2222222222222222,
              "#7201a8"
             ],
             [
              0.3333333333333333,
              "#9c179e"
             ],
             [
              0.4444444444444444,
              "#bd3786"
             ],
             [
              0.5555555555555556,
              "#d8576b"
             ],
             [
              0.6666666666666666,
              "#ed7953"
             ],
             [
              0.7777777777777778,
              "#fb9f3a"
             ],
             [
              0.8888888888888888,
              "#fdca26"
             ],
             [
              1,
              "#f0f921"
             ]
            ],
            "type": "surface"
           }
          ],
          "table": [
           {
            "cells": {
             "fill": {
              "color": "#EBF0F8"
             },
             "line": {
              "color": "white"
             }
            },
            "header": {
             "fill": {
              "color": "#C8D4E3"
             },
             "line": {
              "color": "white"
             }
            },
            "type": "table"
           }
          ]
         },
         "layout": {
          "annotationdefaults": {
           "arrowcolor": "#2a3f5f",
           "arrowhead": 0,
           "arrowwidth": 1
          },
          "autotypenumbers": "strict",
          "coloraxis": {
           "colorbar": {
            "outlinewidth": 0,
            "ticks": ""
           }
          },
          "colorscale": {
           "diverging": [
            [
             0,
             "#8e0152"
            ],
            [
             0.1,
             "#c51b7d"
            ],
            [
             0.2,
             "#de77ae"
            ],
            [
             0.3,
             "#f1b6da"
            ],
            [
             0.4,
             "#fde0ef"
            ],
            [
             0.5,
             "#f7f7f7"
            ],
            [
             0.6,
             "#e6f5d0"
            ],
            [
             0.7,
             "#b8e186"
            ],
            [
             0.8,
             "#7fbc41"
            ],
            [
             0.9,
             "#4d9221"
            ],
            [
             1,
             "#276419"
            ]
           ],
           "sequential": [
            [
             0,
             "#0d0887"
            ],
            [
             0.1111111111111111,
             "#46039f"
            ],
            [
             0.2222222222222222,
             "#7201a8"
            ],
            [
             0.3333333333333333,
             "#9c179e"
            ],
            [
             0.4444444444444444,
             "#bd3786"
            ],
            [
             0.5555555555555556,
             "#d8576b"
            ],
            [
             0.6666666666666666,
             "#ed7953"
            ],
            [
             0.7777777777777778,
             "#fb9f3a"
            ],
            [
             0.8888888888888888,
             "#fdca26"
            ],
            [
             1,
             "#f0f921"
            ]
           ],
           "sequentialminus": [
            [
             0,
             "#0d0887"
            ],
            [
             0.1111111111111111,
             "#46039f"
            ],
            [
             0.2222222222222222,
             "#7201a8"
            ],
            [
             0.3333333333333333,
             "#9c179e"
            ],
            [
             0.4444444444444444,
             "#bd3786"
            ],
            [
             0.5555555555555556,
             "#d8576b"
            ],
            [
             0.6666666666666666,
             "#ed7953"
            ],
            [
             0.7777777777777778,
             "#fb9f3a"
            ],
            [
             0.8888888888888888,
             "#fdca26"
            ],
            [
             1,
             "#f0f921"
            ]
           ]
          },
          "colorway": [
           "#636efa",
           "#EF553B",
           "#00cc96",
           "#ab63fa",
           "#FFA15A",
           "#19d3f3",
           "#FF6692",
           "#B6E880",
           "#FF97FF",
           "#FECB52"
          ],
          "font": {
           "color": "#2a3f5f"
          },
          "geo": {
           "bgcolor": "white",
           "lakecolor": "white",
           "landcolor": "#E5ECF6",
           "showlakes": true,
           "showland": true,
           "subunitcolor": "white"
          },
          "hoverlabel": {
           "align": "left"
          },
          "hovermode": "closest",
          "mapbox": {
           "style": "light"
          },
          "paper_bgcolor": "white",
          "plot_bgcolor": "#E5ECF6",
          "polar": {
           "angularaxis": {
            "gridcolor": "white",
            "linecolor": "white",
            "ticks": ""
           },
           "bgcolor": "#E5ECF6",
           "radialaxis": {
            "gridcolor": "white",
            "linecolor": "white",
            "ticks": ""
           }
          },
          "scene": {
           "xaxis": {
            "backgroundcolor": "#E5ECF6",
            "gridcolor": "white",
            "gridwidth": 2,
            "linecolor": "white",
            "showbackground": true,
            "ticks": "",
            "zerolinecolor": "white"
           },
           "yaxis": {
            "backgroundcolor": "#E5ECF6",
            "gridcolor": "white",
            "gridwidth": 2,
            "linecolor": "white",
            "showbackground": true,
            "ticks": "",
            "zerolinecolor": "white"
           },
           "zaxis": {
            "backgroundcolor": "#E5ECF6",
            "gridcolor": "white",
            "gridwidth": 2,
            "linecolor": "white",
            "showbackground": true,
            "ticks": "",
            "zerolinecolor": "white"
           }
          },
          "shapedefaults": {
           "line": {
            "color": "#2a3f5f"
           }
          },
          "ternary": {
           "aaxis": {
            "gridcolor": "white",
            "linecolor": "white",
            "ticks": ""
           },
           "baxis": {
            "gridcolor": "white",
            "linecolor": "white",
            "ticks": ""
           },
           "bgcolor": "#E5ECF6",
           "caxis": {
            "gridcolor": "white",
            "linecolor": "white",
            "ticks": ""
           }
          },
          "title": {
           "x": 0.05
          },
          "xaxis": {
           "automargin": true,
           "gridcolor": "white",
           "linecolor": "white",
           "ticks": "",
           "title": {
            "standoff": 15
           },
           "zerolinecolor": "white",
           "zerolinewidth": 2
          },
          "yaxis": {
           "automargin": true,
           "gridcolor": "white",
           "linecolor": "white",
           "ticks": "",
           "title": {
            "standoff": 15
           },
           "zerolinecolor": "white",
           "zerolinewidth": 2
          }
         }
        },
        "title": {
         "text": "Play Count Over Time for Each ID"
        },
        "xaxis": {
         "title": {
          "text": "Fetch Data Time"
         }
        },
        "yaxis": {
         "title": {
          "text": "Play Count"
         }
        }
       }
      }
     },
     "metadata": {},
     "output_type": "display_data"
    }
   ],
   "source": [
    "import plotly.graph_objects as go\n",
    "import numpy as np\n",
    "\n",
    "dfPlot = combinedDf\n",
    "\n",
    "# Assuming your DataFrame is named 'df'\n",
    "fig = go.Figure()\n",
    "\n",
    "# Iterate over unique IDs and add a trace for each\n",
    "for id_value in dfPlot['id'].unique():\n",
    "    id_data = dfPlot[dfPlot['id'] == id_value]\n",
    "    print(id_data)\n",
    "    fig.add_trace(go.Scatter(x=id_data['fetchDataTime'], y=id_data['playCount'],\n",
    "                             mode='lines+markers', name=f'Video ID: {id_value}',\n",
    "                             marker=dict(\n",
    "                                color=(1, 0, 0)\n",
    "                             ),\n",
    "                             hovertemplate=\"<br>\".join([\n",
    "                                \"<b>Video ID: %{customdata[0]}</b>\",\n",
    "                                \"Date: %{x}\",\n",
    "                                \"Count: %{y}\",\n",
    "                                \"Delta: %{customdata[1]}\",\n",
    "                                \"<extra></extra>\"\n",
    "                            ])))\n",
    "\n",
    "# Customize layout\n",
    "fig.update_layout(\n",
    "    xaxis_title='Fetch Data Time',\n",
    "    yaxis_title='Play Count',\n",
    "    title='Play Count Over Time for Each ID',\n",
    "    hoverlabel=dict(\n",
    "        bgcolor=\"white\",\n",
    "        font_size=10,\n",
    "    ),\n",
    "    hovermode=\"x unified\"\n",
    ")\n",
    "\n",
    "# Show the plot\n",
    "fig.show()\n"
   ]
  },
  {
   "cell_type": "code",
   "execution_count": 167,
   "metadata": {},
   "outputs": [
    {
     "name": "stdout",
     "output_type": "stream",
     "text": [
      "['rgb(2,1,0)']\n"
     ]
    },
    {
     "ename": "TypeError",
     "evalue": "cannot unpack non-iterable int object",
     "output_type": "error",
     "traceback": [
      "\u001b[0;31m---------------------------------------------------------------------------\u001b[0m",
      "\u001b[0;31mTypeError\u001b[0m                                 Traceback (most recent call last)",
      "Cell \u001b[0;32mIn [167], line 2\u001b[0m\n\u001b[1;32m      1\u001b[0m \u001b[38;5;28mprint\u001b[39m([\u001b[38;5;124m'\u001b[39m\u001b[38;5;124mrgb(\u001b[39m\u001b[38;5;132;01m{}\u001b[39;00m\u001b[38;5;124m,\u001b[39m\u001b[38;5;132;01m{}\u001b[39;00m\u001b[38;5;124m,\u001b[39m\u001b[38;5;132;01m{}\u001b[39;00m\u001b[38;5;124m)\u001b[39m\u001b[38;5;124m'\u001b[39m\u001b[38;5;241m.\u001b[39mformat(r,g,b) \u001b[38;5;28;01mfor\u001b[39;00m r,g,b \u001b[38;5;129;01min\u001b[39;00m \u001b[38;5;28mzip\u001b[39m([\u001b[38;5;241m2\u001b[39m], [\u001b[38;5;241m1\u001b[39m], [\u001b[38;5;241m0\u001b[39m])])\n\u001b[0;32m----> 2\u001b[0m \u001b[38;5;28mprint\u001b[39m([\u001b[38;5;124m'\u001b[39m\u001b[38;5;124mrgb(\u001b[39m\u001b[38;5;132;01m{}\u001b[39;00m\u001b[38;5;124m,\u001b[39m\u001b[38;5;132;01m{}\u001b[39;00m\u001b[38;5;124m,\u001b[39m\u001b[38;5;132;01m{}\u001b[39;00m\u001b[38;5;124m)\u001b[39m\u001b[38;5;124m'\u001b[39m\u001b[38;5;241m.\u001b[39mformat(r,g,b) \u001b[38;5;28;01mfor\u001b[39;00m r,g,b \u001b[38;5;129;01min\u001b[39;00m [\u001b[38;5;241m2\u001b[39m,\u001b[38;5;241m1\u001b[39m,\u001b[38;5;241m0\u001b[39m] ])\n",
      "Cell \u001b[0;32mIn [167], line 2\u001b[0m, in \u001b[0;36m<listcomp>\u001b[0;34m(.0)\u001b[0m\n\u001b[1;32m      1\u001b[0m \u001b[38;5;28mprint\u001b[39m([\u001b[38;5;124m'\u001b[39m\u001b[38;5;124mrgb(\u001b[39m\u001b[38;5;132;01m{}\u001b[39;00m\u001b[38;5;124m,\u001b[39m\u001b[38;5;132;01m{}\u001b[39;00m\u001b[38;5;124m,\u001b[39m\u001b[38;5;132;01m{}\u001b[39;00m\u001b[38;5;124m)\u001b[39m\u001b[38;5;124m'\u001b[39m\u001b[38;5;241m.\u001b[39mformat(r,g,b) \u001b[38;5;28;01mfor\u001b[39;00m r,g,b \u001b[38;5;129;01min\u001b[39;00m \u001b[38;5;28mzip\u001b[39m([\u001b[38;5;241m2\u001b[39m], [\u001b[38;5;241m1\u001b[39m], [\u001b[38;5;241m0\u001b[39m])])\n\u001b[0;32m----> 2\u001b[0m \u001b[38;5;28mprint\u001b[39m([\u001b[38;5;124m'\u001b[39m\u001b[38;5;124mrgb(\u001b[39m\u001b[38;5;132;01m{}\u001b[39;00m\u001b[38;5;124m,\u001b[39m\u001b[38;5;132;01m{}\u001b[39;00m\u001b[38;5;124m,\u001b[39m\u001b[38;5;132;01m{}\u001b[39;00m\u001b[38;5;124m)\u001b[39m\u001b[38;5;124m'\u001b[39m\u001b[38;5;241m.\u001b[39mformat(r,g,b) \u001b[38;5;28;01mfor\u001b[39;00m r,g,b \u001b[38;5;129;01min\u001b[39;00m [\u001b[38;5;241m2\u001b[39m,\u001b[38;5;241m1\u001b[39m,\u001b[38;5;241m0\u001b[39m] ])\n",
      "\u001b[0;31mTypeError\u001b[0m: cannot unpack non-iterable int object"
     ]
    }
   ],
   "source": [
    "print(['rgb({},{},{})'.format(r,g,b) for r,g,b in zip([2], [1], [0])])\n",
    "print(['rgb({},{},{})'.format(r,g,b) for r,g,b in [2,1,0] ])"
   ]
  }
 ],
 "metadata": {
  "kernelspec": {
   "display_name": "Python 3",
   "language": "python",
   "name": "python3"
  },
  "language_info": {
   "codemirror_mode": {
    "name": "ipython",
    "version": 3
   },
   "file_extension": ".py",
   "mimetype": "text/x-python",
   "name": "python",
   "nbconvert_exporter": "python",
   "pygments_lexer": "ipython3",
   "version": "3.9.13"
  }
 },
 "nbformat": 4,
 "nbformat_minor": 2
}
