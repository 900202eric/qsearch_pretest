{
 "cells": [
  {
   "cell_type": "code",
   "execution_count": 1,
   "metadata": {},
   "outputs": [],
   "source": [
    "import requests\n",
    "import time\n",
    "import pandas as pd\n",
    "from const import startTimeStamp, base_url, params, headers\n",
    "\n",
    "# print('{:>20} | {:>8} | {:>8} | {:>8} | {:>10} | {:>5} | {:<18}'.format('date', 'collect', 'comment', 'like', 'play', 'share', 'title'))\n",
    "# print('-' * 100)\n",
    "# for sm in shortMediaItems:\n",
    "#     if sm['createTime'] > startTimeStamp:\n",
    "#         print('{:>20} | {:>8} | {:>8} | {:>8} | {:>10} | {:>5} | {:<15}'.format( time.strftime(\"%Y-%m-%d %H:%M:%S\", time.gmtime(sm['createTime'])), sm['stats']['collectCount'], sm['stats']['commentCount'], sm['stats']['diggCount'], sm['stats']['playCount'], sm['stats']['shareCount'], sm['desc'][:10]))\n",
    "\n",
    "def listStats(shorMediaItems):\n",
    "  print('{:>20} | {:>8} | {:>8} | {:>8} | {:>10} | {:>5} | {:<18}'.format('date', 'collect', 'comment', 'like', 'play', 'share', 'title'))\n",
    "  print('-' * 100)\n",
    "  for sm in shorMediaItems:\n",
    "      if sm['createTime'] > startTimeStamp:\n",
    "          print('{:>20} | {:>8} | {:>8} | {:>8} | {:>10} | {:>5} | {:<15}'.format( time.strftime(\"%Y-%m-%d %H:%M:%S\", time.gmtime(sm['createTime'])), sm['stats']['collectCount'], sm['stats']['commentCount'], sm['stats']['diggCount'], sm['stats']['playCount'], sm['stats']['shareCount'], sm['desc'][:10]))\n",
    "\n",
    "def crawlStats(startTimeStamp):\n",
    "  response = requests.request(\"GET\", base_url+params, headers=headers)\n",
    "  data = response.json()\n",
    "  shortMediaItems = []\n",
    "  \n",
    "  for item in data['itemList']:\n",
    "    if item['createTime'] > startTimeStamp:\n",
    "      shortMediaItems.append(item)\n",
    "  \n",
    "  print('-' * 100)\n",
    "  print(\"Number of getting stats after\", time.strftime(\"%Y-%m-%d %H:%M:%S\", time.gmtime(startTimeStamp)), \": \", len(shortMediaItems))\n",
    "  print('-' * 100)\n",
    "  return shortMediaItems"
   ]
  },
  {
   "cell_type": "code",
   "execution_count": 2,
   "metadata": {},
   "outputs": [
    {
     "name": "stdout",
     "output_type": "stream",
     "text": [
      "1706019014 https://www.tiktok.com/api/post/item_list/\n"
     ]
    }
   ],
   "source": [
    "print(startTimeStamp, base_url)"
   ]
  },
  {
   "cell_type": "code",
   "execution_count": 3,
   "metadata": {},
   "outputs": [
    {
     "name": "stdout",
     "output_type": "stream",
     "text": [
      "----------------------------------------------------------------------------------------------------\n",
      "Number of getting stats after 2024-01-23 14:10:14 :  29\n",
      "----------------------------------------------------------------------------------------------------\n",
      "                date |  collect |  comment |     like |       play | share | title             \n",
      "----------------------------------------------------------------------------------------------------\n",
      " 2024-01-29 14:00:00 |        2 |        0 |       31 |       1243 |     1 | 藝人炎亞綸現身士林地     \n",
      " 2024-01-29 12:00:00 |       10 |        5 |      204 |       7988 |     7 | 怎麼覺得跑得贏正義      \n",
      " 2024-01-29 10:00:00 |        6 |        7 |      169 |       8319 |     6 | Toyz放話向超哥下     \n",
      " 2024-01-29 09:00:00 |       10 |        1 |      166 |       4674 |     6 | 看看汪這雙會說話的眼     \n",
      " 2024-01-29 07:55:23 |       16 |        3 |      232 |       5686 |     7 | 王世堅送柯文哲的龍袍     \n",
      " 2024-01-29 07:00:00 |       53 |       21 |      703 |      24500 |    11 | 患難見真情，洋蔥加滿     \n",
      " 2024-01-29 05:00:00 |       14 |        7 |      214 |      15500 |     8 | 名錶遍地開花｜感謝      \n",
      " 2024-01-29 04:45:51 |       67 |       42 |     1114 |      30600 |    68 | 韓國瑜拜會民眾黨團，     \n",
      " 2024-01-29 02:56:24 |       13 |        2 |      199 |       8889 |     1 | 這位爸爸你要確欸，兒     \n",
      " 2024-01-28 12:00:00 |        9 |        0 |      164 |       8145 |     8 | 婚禮直接上演唐伯虎點     \n",
      " 2024-01-28 09:00:00 |       36 |        1 |      644 |       9416 |    28 | 狗狗砲彈來囉😍｜感謝     \n",
      " 2024-01-28 01:00:00 |       38 |        3 |      625 |       7547 |    24 | 叫得這麼可愛，必須再     \n",
      " 2024-01-27 12:00:00 |       66 |        8 |     1315 |      42400 |    66 | 沉默是今晚的康橋，問     \n",
      " 2024-01-27 09:00:00 |        8 |        0 |      162 |       5115 |     7 | 好像滿有說服力的？｜     \n",
      " 2024-01-27 01:00:00 |        0 |        0 |       92 |       4655 |     0 | 這感覺好像不錯欸！｜     \n",
      " 2024-01-26 08:30:00 |       17 |       11 |      309 |       9041 |     4 | 怎麼會有柯文哲帶頭吃     \n",
      " 2024-01-26 08:00:00 |       42 |       12 |      818 |      18500 |   170 | 確定這是小狗勾的打呼     \n",
      " 2024-01-26 05:00:00 |       41 |        1 |      812 |      31900 |   113 | 肯定是很多情侶都有的     \n",
      " 2024-01-26 03:23:39 |        7 |        1 |       72 |       4065 |     4 | Rubber duc     \n",
      " 2024-01-26 01:51:13 |        8 |        0 |      145 |       6202 |     6 | 公主請上車🥴｜感謝      \n",
      " 2024-01-25 09:00:00 |       62 |        6 |      973 |      22800 |    25 | 還能開玩笑，看來是不     \n",
      " 2024-01-25 07:00:00 |      140 |       29 |     2600 |     164300 |   248 | 爸爸的眼神不會騙人🤣     \n",
      " 2024-01-25 04:59:04 |       50 |        0 |      709 |      16400 |   103 | 堅忍不拔是我們柴的美     \n",
      " 2024-01-24 09:00:00 |       28 |        5 |      454 |      19700 |    27 | 你...也...尿.     \n",
      " 2024-01-24 08:00:00 |       10 |        0 |      301 |      14800 |     4 | 太可怕了這波寒流，玻     \n",
      " 2024-01-24 07:00:00 |       25 |        7 |      468 |      27500 |    25 | 超派鐵拳番外篇 館長     \n",
      " 2024-01-24 04:00:00 |      439 |       39 |     5264 |      99100 |   375 | 在賺你的飼料錢｜感謝     \n",
      " 2024-01-24 02:00:00 |        9 |        0 |      182 |      18600 |    11 | 獎用不到...沒有女     \n",
      " 2024-01-24 00:00:00 |       15 |        6 |      226 |      16000 |    30 | 把烏龜塞口袋是什麼操     \n"
     ]
    }
   ],
   "source": [
    "shortMediaItems = crawlStats(startTimeStamp)\n",
    "listStats(shorMediaItems=shortMediaItems)"
   ]
  },
  {
   "cell_type": "code",
   "execution_count": 6,
   "metadata": {},
   "outputs": [
    {
     "name": "stdout",
     "output_type": "stream",
     "text": [
      "29\n"
     ]
    }
   ],
   "source": [
    "print(len(shortMediaItems))"
   ]
  },
  {
   "cell_type": "code",
   "execution_count": 15,
   "metadata": {},
   "outputs": [
    {
     "name": "stdout",
     "output_type": "stream",
     "text": [
      "[{'createTime': 1706536800, 'collectCount': 2, 'commentCount': 0, 'diggCount': 31, 'playCount': 1243, 'shareCount': 1, 'desc': '藝人炎亞綸現身士林地院，庭後他接受媒體訪問表示，兩項指控已獲不起訴，提醒媒體及網友「未來要斟酌用字」 #即新聞  #炎亞綸'}, {'createTime': 1706529600, 'collectCount': 10, 'commentCount': 5, 'diggCount': 204, 'playCount': 7988, 'shareCount': 7, 'desc': '怎麼覺得跑得贏正義 #即新聞 #警察 #車手'}, {'createTime': 1706522400, 'collectCount': 6, 'commentCount': 7, 'diggCount': 169, 'playCount': 8319, 'shareCount': 6, 'desc': 'Toyz放話向超哥下戰帖！想跟他來一場拳賽 #即新聞 #toyz #超派 #超派人生 #超哥'}, {'createTime': 1706518800, 'collectCount': 10, 'commentCount': 1, 'diggCount': 166, 'playCount': 4674, 'shareCount': 6, 'desc': '看看汪這雙會說話的眼睛😍｜感謝 Kuma 授權｜#即新聞 #寵物 #歐告 #狗狗'}, {'createTime': 1706514923, 'collectCount': 16, 'commentCount': 3, 'diggCount': 232, 'playCount': 5686, 'shareCount': 7, 'desc': '王世堅送柯文哲的龍袍，當年隔了十天才還回來，堅哥居然說聞起來有淡淡的柯味...怎麼會有試聞的環節??? #即新聞  #柯文哲 #王世堅 #堅哥 #kp #民進黨 #民眾黨'}, {'createTime': 1706511600, 'collectCount': 53, 'commentCount': 21, 'diggCount': 703, 'playCount': 24500, 'shareCount': 11, 'desc': '患難見真情，洋蔥加滿QQ｜感謝 IG suzu_nihongo 授權｜#即新聞 #日本 #地震 #親情 #暖聞'}, {'createTime': 1706504400, 'collectCount': 14, 'commentCount': 7, 'diggCount': 214, 'playCount': 15500, 'shareCount': 8, 'desc': '名錶遍地開花｜感謝 IG weiting6622 授權｜#即新聞 #手錶'}, {'createTime': 1706503551, 'collectCount': 67, 'commentCount': 42, 'diggCount': 1114, 'playCount': 30600, 'shareCount': 68, 'desc': '韓國瑜拜會民眾黨團，聯訪時直接和黃國昌來個愛的抱抱 #即新聞  #政治 #韓國瑜 #黃國昌 #國民黨 #民眾黨 #立法院 #立法院長'}, {'createTime': 1706496984, 'collectCount': 13, 'commentCount': 2, 'diggCount': 199, 'playCount': 8889, 'shareCount': 1, 'desc': '這位爸爸你要確欸，兒子會長大喔XDDD｜感謝 IG wei_stanley 授權｜#即新聞 #父子 #親子 #整人 #搶食'}, {'createTime': 1706443200, 'collectCount': 9, 'commentCount': 0, 'diggCount': 164, 'playCount': 8145, 'shareCount': 8, 'desc': '婚禮直接上演唐伯虎點秋香哈哈哈｜感謝 IG wedding_ben_host 授權｜#即新聞 #婚禮 #婚宴 #唐伯虎點秋香 #新郎 #新娘'}, {'createTime': 1706432400, 'collectCount': 36, 'commentCount': 1, 'diggCount': 644, 'playCount': 9416, 'shareCount': 28, 'desc': '狗狗砲彈來囉😍｜感謝 IG teo_teo_1110 授權｜#即新聞 #雪納瑞 #狗狗 #歡迎回家 #撒嬌'}, {'createTime': 1706403600, 'collectCount': 38, 'commentCount': 3, 'diggCount': 625, 'playCount': 7547, 'shareCount': 24, 'desc': '叫得這麼可愛，必須再多吸幾口😍｜感謝 IG cherry_momo2024 授權｜#即新聞 #貓咪 #奶音 #寵物 #吸貓'}, {'createTime': 1706356800, 'collectCount': 66, 'commentCount': 8, 'diggCount': 1315, 'playCount': 42400, 'shareCount': 66, 'desc': '沉默是今晚的康橋，問就是沒有柴想去🤣｜感謝 IG shiba_gqch 授權｜#即新聞 #柴犬 #寵物 #狗狗'}, {'createTime': 1706346000, 'collectCount': 8, 'commentCount': 0, 'diggCount': 162, 'playCount': 5115, 'shareCount': 7, 'desc': '好像滿有說服力的？｜感謝 IG ruei_0801 授權｜#即新聞 #燒金紙 #金紙 #拜拜'}, {'createTime': 1706317200, 'collectCount': 0, 'commentCount': 0, 'diggCount': 92, 'playCount': 4655, 'shareCount': 0, 'desc': '這感覺好像不錯欸！｜感謝 IG paprtect 授權｜#即新聞 #新創 #發明 #創意發明 #瑞典 #衛生用品'}, {'createTime': 1706257800, 'collectCount': 17, 'commentCount': 11, 'diggCount': 309, 'playCount': 9041, 'shareCount': 4, 'desc': '怎麼會有柯文哲帶頭吃瓜的問題，吃瓜好吃一直吃 #即新聞 #柯文哲 #柯P #民眾黨 #柯建銘 #黃國昌'}, {'createTime': 1706256000, 'collectCount': 42, 'commentCount': 12, 'diggCount': 818, 'playCount': 18500, 'shareCount': 170, 'desc': '確定這是小狗勾的打呼聲欸？｜感謝 楊雅莉 授權｜#即新聞 #貴賓犬 #貴賓狗 #打呼聲 #打呼'}, {'createTime': 1706245200, 'collectCount': 41, 'commentCount': 1, 'diggCount': 812, 'playCount': 31900, 'shareCount': 113, 'desc': '肯定是很多情侶都有的情況🤣｜感謝 IG kesiting_ 授權｜#即新聞 #情侶 #男友 #女友'}, {'createTime': 1706239419, 'collectCount': 7, 'commentCount': 1, 'diggCount': 72, 'playCount': 4065, 'shareCount': 4, 'desc': 'Rubber duck is so cute！黃色小鴨充氣縮時已經太可愛😍#即新聞  #rubberduck #黃色小鴨 #高雄 #充氣 #縮時攝影'}, {'createTime': 1706233873, 'collectCount': 8, 'commentCount': 0, 'diggCount': 145, 'playCount': 6202, 'shareCount': 6, 'desc': '公主請上車🥴｜感謝 IG doomo_akitainu 授權｜#即新聞 #寵物 #秋田犬'}, {'createTime': 1706173200, 'collectCount': 62, 'commentCount': 6, 'diggCount': 973, 'playCount': 22800, 'shareCount': 25, 'desc': '還能開玩笑，看來是不夠醉🤣｜感謝 IG lester0313_____ 授權｜#即新聞 #醉漢 #喝醉 #搞笑'}, {'createTime': 1706166000, 'collectCount': 140, 'commentCount': 29, 'diggCount': 2600, 'playCount': 164300, 'shareCount': 248, 'desc': '爸爸的眼神不會騙人🤣｜感謝 IG han__0512 授權｜#即新聞 #性別派對 #三胞胎 #懷孕 #夫妻'}, {'createTime': 1706158744, 'collectCount': 50, 'commentCount': 0, 'diggCount': 709, 'playCount': 16400, 'shareCount': 103, 'desc': '堅忍不拔是我們柴的美好品質😎｜感謝 IG dodobean_0511 授權｜#即新聞 #柴犬 #黑柴'}, {'createTime': 1706086800, 'collectCount': 28, 'commentCount': 5, 'diggCount': 454, 'playCount': 19700, 'shareCount': 27, 'desc': '你...也...尿...太...久...了......｜感謝 IG dylandon0114 授權｜#即新聞 #樹懶 #動物園'}, {'createTime': 1706083200, 'collectCount': 10, 'commentCount': 0, 'diggCount': 301, 'playCount': 14800, 'shareCount': 4, 'desc': '太可怕了這波寒流，玻璃門冷到炸開 #即新聞 #寒流 #嘉義'}, {'createTime': 1706079600, 'collectCount': 25, 'commentCount': 7, 'diggCount': 468, 'playCount': 27500, 'shareCount': 25, 'desc': '超派鐵拳番外篇 館長的筋筋有味之亂也算有結論了｜感謝 YouTube 館長惡名昭彰 授權｜#即新聞 #超派鐵拳 #超派 #館長 #飆捍'}, {'createTime': 1706068800, 'collectCount': 439, 'commentCount': 39, 'diggCount': 5264, 'playCount': 99100, 'shareCount': 375, 'desc': '在賺你的飼料錢｜感謝 IG a.ting_lazyparrot 授權｜#即新聞 #鸚鵡 #寵物'}, {'createTime': 1706061600, 'collectCount': 9, 'commentCount': 0, 'diggCount': 182, 'playCount': 18600, 'shareCount': 11, 'desc': '獎用不到...沒有女友...double kill #即新聞 #尾牙 #抽獎 #單身'}, {'createTime': 1706054400, 'collectCount': 15, 'commentCount': 6, 'diggCount': 226, 'playCount': 16000, 'shareCount': 30, 'desc': '把烏龜塞口袋是什麼操作？？？ #即新聞 #小偷 #現行犯 #奧客 #警察'}]\n"
     ]
    }
   ],
   "source": [
    "processedItems = []\n",
    "\n",
    "for item in shortMediaItems:\n",
    "    processedItem = {\n",
    "        'createTime': item['createTime'],\n",
    "        'collectCount': item['stats']['collectCount'],\n",
    "        'commentCount': item['stats']['commentCount'],\n",
    "        'diggCount': item['stats']['diggCount'],\n",
    "        'playCount': item['stats']['playCount'],\n",
    "        'shareCount': item['stats']['shareCount'],\n",
    "        'desc': item['desc']\n",
    "    }\n",
    "    processedItems.append(processedItem)\n",
    "\n",
    "print(processedItems)"
   ]
  },
  {
   "cell_type": "code",
   "execution_count": 26,
   "metadata": {},
   "outputs": [],
   "source": [
    "import time\n",
    "df = pd.DataFrame(item for item in processedItems)\n",
    "\n",
    "t = (int)(time.time())\n",
    "df.to_csv(f'{t}.csv', encoding = 'utf-8',index = False)"
   ]
  }
 ],
 "metadata": {
  "kernelspec": {
   "display_name": "Python 3",
   "language": "python",
   "name": "python3"
  },
  "language_info": {
   "codemirror_mode": {
    "name": "ipython",
    "version": 3
   },
   "file_extension": ".py",
   "mimetype": "text/x-python",
   "name": "python",
   "nbconvert_exporter": "python",
   "pygments_lexer": "ipython3",
   "version": "3.9.13"
  }
 },
 "nbformat": 4,
 "nbformat_minor": 2
}
